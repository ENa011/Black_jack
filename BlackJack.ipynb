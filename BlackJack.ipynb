{
 "cells": [
  {
   "cell_type": "code",
   "execution_count": 1,
   "metadata": {},
   "outputs": [],
   "source": [
    "import random\n",
    "import sys"
   ]
  },
  {
   "cell_type": "code",
   "execution_count": 2,
   "metadata": {},
   "outputs": [
    {
     "name": "stdout",
     "output_type": "stream",
     "text": [
      "Welcome, Let's play the Black Jack\n",
      "Ace is ONLY 11 not 1!\n",
      "Your Current balance is $500 dollar\n"
     ]
    },
    {
     "name": "stdin",
     "output_type": "stream",
     "text": [
      "Would you like to play a game?  Type: YES or NO YES\n",
      "enter the amount you want to bet 200\n"
     ]
    },
    {
     "name": "stdout",
     "output_type": "stream",
     "text": [
      "Good let's play a game!\n",
      "handing out the card for player\n",
      "4\n",
      "9\n"
     ]
    }
   ],
   "source": [
    "print(\"Welcome, Let's play the Black Jack\")\n",
    "print('Ace is ONLY 11 not 1!')\n",
    "\n",
    "FirstCard = random.choice(['A', 2, 3, 4, 5, 6, 7, 8, 9, 10,'J' ,'Q','K'])\n",
    "SecondCard = random.choice(['A' , 2, 3, 4, 5, 6, 7, 8, 9, 10,'J' ,'Q' ,'K' ])\n",
    "Card = random.choice(['A', 2, 3, 4, 5, 6, 7, 8, 9, 10,'J','Q','K'])\n",
    "DealerCard = random.choice(['A', 2, 3, 4, 5, 6, 7, 8, 9, 10,'J','Q','K'])\n",
    "initialMoney = 500\n",
    "\n",
    "print(\"Your Current balance is $\" +  str(initialMoney) + \" dollar\" )\n",
    "\n",
    "#playing game\n",
    "choice = input(\"Would you like to play a game?  Type: YES or NO\")\n",
    "\n",
    "if choice == \"YES\":\n",
    "    bet = input('enter the amount you want to bet')\n",
    "    \n",
    "    if initialMoney < int(bet):\n",
    "        sys.exit('oops, not enough money')\n",
    "    \n",
    "    print(\"Good let's play a game!\")\n",
    "    print(\"handing out the card for player\")\n",
    "    \n",
    "    oneCard = FirstCard\n",
    "    twoCard = SecondCard \n",
    "    print(oneCard)\n",
    "    print(twoCard)\n",
    "    \n",
    "    if oneCard == 'A':\n",
    "        oneCard = 11\n",
    "    elif oneCard == 'J' or oneCard == 'Q' or oneCard == 'K':\n",
    "        oneCard = 10\n",
    "        \n",
    "    if twoCard == 'A':\n",
    "        twoCard = 11\n",
    "    elif twoCard =='J'or twoCard == 'Q' or twoCard == 'K':\n",
    "        twoCard = 10\n",
    "        \n",
    "    playerSum = oneCard + twoCard\n",
    "        \n",
    "elif choice == \"NO\":\n",
    "    print(\"Too bad, come back again if you like to play!\")\n",
    "else:\n",
    "    print(\"Sorry, that is not a correct response, Make sure to type 'YES' or 'NO'\")\n",
    "    \n"
   ]
  },
  {
   "cell_type": "code",
   "execution_count": 3,
   "metadata": {},
   "outputs": [
    {
     "name": "stdin",
     "output_type": "stream",
     "text": [
      "would you like to HIT or STOP?  Type HIT or any other key to STOP HIT\n"
     ]
    },
    {
     "name": "stdout",
     "output_type": "stream",
     "text": [
      "10\n",
      "opps Sorry, Busted\n",
      "Your sum value is\n",
      "0\n"
     ]
    }
   ],
   "source": [
    "choice2 = input('would you like to HIT or STOP?  Type HIT or any other key to STOP')\n",
    "\n",
    "while choice2 == 'HIT':\n",
    "        print(Card)\n",
    "        \n",
    "        if Card == 'A':\n",
    "            Card = 11\n",
    "        elif Card =='J'or Card == 'Q' or Card == 'K':\n",
    "            Card = 10        \n",
    "        \n",
    "        playerSum = playerSum + Card\n",
    "        \n",
    "        if playerSum > 21:\n",
    "            print('opps Sorry, Busted')\n",
    "            playerSum = 0\n",
    "            break\n",
    "        elif playerSum < 22:    \n",
    "            choice2 = input('would you like to HIT or STOP?  Type HIT or STOP')\n",
    "            Card = random.choice(['A', 2, 3, 4, 5, 6, 7, 8, 9, 10,'J','Q','K'])\n",
    "                \n",
    "print('Your sum value is')\n",
    "print(playerSum)  \n"
   ]
  },
  {
   "cell_type": "code",
   "execution_count": 4,
   "metadata": {},
   "outputs": [
    {
     "name": "stdout",
     "output_type": "stream",
     "text": [
      "It is Dealer's turn\n",
      "J\n",
      "J\n",
      "Dealer sum value is\n",
      "20\n",
      "Dealer Won\n",
      "Your Current balance is $300 dollar\n"
     ]
    }
   ],
   "source": [
    "# Dealer card\n",
    "dealerSum = 0\n",
    "print(\"It is Dealer's turn\")\n",
    "Card1 = random.choice(['A', 2, 3, 4, 5, 6, 7, 8, 9, 10,'J','Q','K'])\n",
    "Card2 = random.choice(['A', 2, 3, 4, 5, 6, 7, 8, 9, 10,'J','Q','K'])\n",
    "print(Card1)\n",
    "print(Card2)\n",
    "    \n",
    "if Card1 == 'A':\n",
    "    Card1 = 11\n",
    "elif Card1 == 'J' or Card1 == 'Q' or Card1 == 'K':\n",
    "    Card1 = 10\n",
    "        \n",
    "if Card2 == 'A':\n",
    "    Card2 = 11\n",
    "elif Card2 =='J'or Card2 == 'Q' or Card2 == 'K':\n",
    "        Card2 = 10\n",
    "    \n",
    "dealerSum = Card1 + Card2\n",
    "    \n",
    "while dealerSum < 17:\n",
    "    print(DealerCard)\n",
    "    \n",
    "    if DealerCard == 'A':\n",
    "        DealerCard = 11\n",
    "    elif DealerCard =='J'or DealerCard == 'Q' or DealerCard == 'K':\n",
    "            DealerCard = 10    \n",
    "            \n",
    "    dealerSum = dealerSum + DealerCard\n",
    "    DealerCard = random.choice(['A', 2, 3, 4, 5, 6, 7, 8, 9, 10,'J','Q','K'])\n",
    "    \n",
    "    if dealerSum > 21:\n",
    "        dealerSum = 0\n",
    "        break\n",
    "    \n",
    "print('Dealer sum value is')\n",
    "print(dealerSum)\n",
    "\n",
    "if playerSum > dealerSum:\n",
    "    print('Congratulation you WON!')\n",
    "    playerMoney = initialMoney + int(bet)\n",
    "    print(\"Your Current balance is $\" +  str(playerMoney) + \" dollar\" )\n",
    "else:\n",
    "    print('Dealer Won')\n",
    "    playerMoney = initialMoney - int(bet)\n",
    "    print(\"Your Current balance is $\" +  str(playerMoney) + \" dollar\" )\n",
    "    \n",
    "if playerMoney == 0: \n",
    "    print('out of Money... better luck next time')"
   ]
  },
  {
   "cell_type": "code",
   "execution_count": 5,
   "metadata": {},
   "outputs": [
    {
     "name": "stdin",
     "output_type": "stream",
     "text": [
      "Would you like to play a game?  Type: YES or NO YES\n"
     ]
    },
    {
     "name": "stdout",
     "output_type": "stream",
     "text": [
      "Your Current balance is $300 dollar\n"
     ]
    },
    {
     "name": "stdin",
     "output_type": "stream",
     "text": [
      "enter the amount you want to bet 200\n"
     ]
    },
    {
     "name": "stdout",
     "output_type": "stream",
     "text": [
      "8\n",
      "2\n"
     ]
    },
    {
     "name": "stdin",
     "output_type": "stream",
     "text": [
      "would you like to HIT or STOP?  Type HIT or any other key to STOP HIT\n"
     ]
    },
    {
     "name": "stdout",
     "output_type": "stream",
     "text": [
      "10\n"
     ]
    },
    {
     "name": "stdin",
     "output_type": "stream",
     "text": [
      "would you like to HIT or STOP?  Type HIT or STOP STOP\n"
     ]
    },
    {
     "name": "stdout",
     "output_type": "stream",
     "text": [
      "Your sum value is\n",
      "20\n",
      "It is Dealer's turn\n",
      "Q\n",
      "K\n",
      "Dealer sum value is\n",
      "20\n",
      "Dealer Won\n",
      "Your Current balance is $100 dollar\n"
     ]
    },
    {
     "name": "stdin",
     "output_type": "stream",
     "text": [
      "Would you like to play a game?  Type: YES or NO YES\n"
     ]
    },
    {
     "name": "stdout",
     "output_type": "stream",
     "text": [
      "Your Current balance is $100 dollar\n"
     ]
    },
    {
     "name": "stdin",
     "output_type": "stream",
     "text": [
      "enter the amount you want to bet 100\n"
     ]
    },
    {
     "name": "stdout",
     "output_type": "stream",
     "text": [
      "Q\n",
      "J\n"
     ]
    },
    {
     "name": "stdin",
     "output_type": "stream",
     "text": [
      "would you like to HIT or STOP?  Type HIT or any other key to STOP STOP\n"
     ]
    },
    {
     "name": "stdout",
     "output_type": "stream",
     "text": [
      "Your sum value is\n",
      "20\n",
      "It is Dealer's turn\n",
      "10\n",
      "J\n",
      "Dealer sum value is\n",
      "20\n",
      "Dealer Won\n",
      "Your Current balance is $0 dollar\n",
      "out of Money... better luck next time\n"
     ]
    }
   ],
   "source": [
    "while playerMoney > 0:\n",
    "    choice3 = input(\"Would you like to play a game?  Type: YES or NO\")\n",
    "    if choice3 == 'YES':\n",
    "        print(\"Your Current balance is $\" +  str(playerMoney) + \" dollar\" )\n",
    "        FirstCard = random.choice(['A', 2, 3, 4, 5, 6, 7, 8, 9, 10,'J' ,'Q','K'])\n",
    "        SecondCard = random.choice(['A' , 2, 3, 4, 5, 6, 7, 8, 9, 10,'J' ,'Q' ,'K' ])\n",
    "        bet1 = input('enter the amount you want to bet')\n",
    "        \n",
    "        if playerMoney  < int(bet1):\n",
    "            print('oops, not engough money')\n",
    "            print(\"Your Current balance is $\" +  str(playerMoney) + \" dollar\" )\n",
    "            break\n",
    "        \n",
    "        oneCard = FirstCard\n",
    "        twoCard = SecondCard \n",
    "        print(oneCard)\n",
    "        print(twoCard)\n",
    "    \n",
    "        if oneCard == 'A':\n",
    "            oneCard = 11\n",
    "        elif oneCard == 'J' or oneCard == 'Q' or oneCard == 'K':\n",
    "            oneCard = 10\n",
    "        \n",
    "        if twoCard == 'A':\n",
    "            twoCard = 11\n",
    "        elif twoCard =='J'or twoCard == 'Q' or twoCard == 'K':\n",
    "            twoCard = 10\n",
    "    \n",
    "        playerSum = oneCard + twoCard        \n",
    "        \n",
    "        choice4 = input('would you like to HIT or STOP?  Type HIT or any other key to STOP')\n",
    "\n",
    "        while choice4 == 'HIT':\n",
    "            print(Card)\n",
    "        \n",
    "            if Card == 'A':\n",
    "                Card = 11\n",
    "            elif Card =='J'or Card == 'Q' or Card == 'K':\n",
    "                Card = 10        \n",
    "        \n",
    "            playerSum = playerSum + Card\n",
    "        \n",
    "            if playerSum > 21:\n",
    "                print('opps Sorry, Busted')\n",
    "                playerSum = 0\n",
    "                break\n",
    "            elif playerSum < 22:    \n",
    "                choice4 = input('would you like to HIT or STOP?  Type HIT or STOP')\n",
    "                Card = random.choice(['A', 2, 3, 4, 5, 6, 7, 8, 9, 10,'J','Q','K'])\n",
    "            \n",
    "        print('Your sum value is')\n",
    "        print(playerSum)\n",
    "    \n",
    "    if choice3 != 'YES':\n",
    "        print('Thanks for playing!, Good bye for now')\n",
    "        print(\"Your Current balance is $\" +  str(playerMoney) + \" dollar\" )\n",
    "        break\n",
    "    \n",
    "    dealerSum = 0\n",
    "    print(\"It is Dealer's turn\")\n",
    "    Card1 = random.choice(['A', 2, 3, 4, 5, 6, 7, 8, 9, 10,'J','Q','K'])\n",
    "    Card2 = random.choice(['A', 2, 3, 4, 5, 6, 7, 8, 9, 10,'J','Q','K'])\n",
    "    print(Card1)\n",
    "    print(Card2)\n",
    "    \n",
    "    if Card1 == 'A':\n",
    "        Card1 = 11\n",
    "    elif Card1 == 'J' or Card1 == 'Q' or Card1 == 'K':\n",
    "        Card1 = 10\n",
    "        \n",
    "    if Card2 == 'A':\n",
    "        Card2 = 11\n",
    "    elif Card2 =='J'or Card2 == 'Q' or Card2 == 'K':\n",
    "            Card2 = 10\n",
    "    \n",
    "    dealerSum = Card1 + Card2\n",
    "    \n",
    "    while dealerSum < 17:\n",
    "        print(DealerCard)\n",
    "    \n",
    "        if DealerCard == 'A':\n",
    "            DealerCard = 11\n",
    "        elif DealerCard =='J'or DealerCard == 'Q' or DealerCard == 'K':\n",
    "                DealerCard = 10    \n",
    "            \n",
    "        dealerSum = dealerSum + DealerCard\n",
    "        DealerCard = random.choice(['A', 2, 3, 4, 5, 6, 7, 8, 9, 10,'J','Q','K'])\n",
    "    \n",
    "        if dealerSum > 21:\n",
    "            dealerSum = 0\n",
    "            break\n",
    "    \n",
    "    print('Dealer sum value is')\n",
    "    print(dealerSum)\n",
    "\n",
    "    if playerSum > dealerSum:\n",
    "        print('Congratulation you WON!')\n",
    "        playerMoney = playerMoney + int(bet1)\n",
    "        print(\"Your Current balance is $\" +  str(playerMoney) + \" dollar\" )\n",
    "    else:\n",
    "        print('Dealer Won')\n",
    "        playerMoney = playerMoney - int(bet1)\n",
    "        print(\"Your Current balance is $\" +  str(playerMoney) + \" dollar\" )\n",
    "    \n",
    "    if playerMoney == 0: \n",
    "        print('out of Money... better luck next time')    \n",
    "   \n",
    "       \n",
    "        \n",
    "    "
   ]
  },
  {
   "cell_type": "code",
   "execution_count": null,
   "metadata": {},
   "outputs": [],
   "source": []
  }
 ],
 "metadata": {
  "kernelspec": {
   "display_name": "Python 3",
   "language": "python",
   "name": "python3"
  },
  "language_info": {
   "codemirror_mode": {
    "name": "ipython",
    "version": 3
   },
   "file_extension": ".py",
   "mimetype": "text/x-python",
   "name": "python",
   "nbconvert_exporter": "python",
   "pygments_lexer": "ipython3",
   "version": "3.7.3"
  }
 },
 "nbformat": 4,
 "nbformat_minor": 2
}
