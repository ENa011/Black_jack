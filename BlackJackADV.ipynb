{
 "cells": [
  {
   "cell_type": "code",
   "execution_count": 2,
   "metadata": {},
   "outputs": [],
   "source": [
    "import random\n",
    "import sys"
   ]
  },
  {
   "cell_type": "code",
   "execution_count": 3,
   "metadata": {},
   "outputs": [
    {
     "name": "stdout",
     "output_type": "stream",
     "text": [
      "Welcome, Let's play the Black Jack\n",
      "Your Current balance is $500 dollar\n"
     ]
    }
   ],
   "source": [
    "#Intro\n",
    "\n",
    "print(\"Welcome, Let's play the Black Jack\")\n",
    "initialMoney = 500\n",
    "print(\"Your Current balance is $\" +  str(initialMoney) + \" dollar\" )"
   ]
  },
  {
   "cell_type": "code",
   "execution_count": 9,
   "metadata": {},
   "outputs": [
    {
     "name": "stdin",
     "output_type": "stream",
     "text": [
      "Would you like to play a game?  Type: YES or NO YES\n",
      "enter the amount you want to bet 100\n"
     ]
    },
    {
     "name": "stdout",
     "output_type": "stream",
     "text": [
      "Good let's play a game!\n",
      "handing out the card for player\n",
      "2\n",
      "Q\n"
     ]
    }
   ],
   "source": [
    "#playing game + initial 2 draws for player\n",
    "choice = input(\"Would you like to play a game?  Type: YES or NO\")\n",
    "\n",
    "if choice == \"YES\":\n",
    "    bet = input('enter the amount you want to bet')\n",
    "    if initialMoney < int(bet):\n",
    "        sys.exit('oops, not enough money')    \n",
    "        \n",
    "    print(\"Good let's play a game!\")\n",
    "    print(\"handing out the card for player\")\n",
    "    \n",
    "    FirstCard = random.choice(['A', 2 , 3 ,4, 5 ,6 ,7 ,8 ,9, 10, 'J', 'Q' ,'K'])\n",
    "    SecondCard = random.choice(['A', 2 , 3 ,4, 5,6 ,7 ,8 ,9, 10, 'J', 'Q' ,'K'])\n",
    "    \n",
    "    print(FirstCard)\n",
    "    print(SecondCard)\n",
    "    \n",
    "    pCard = []\n",
    "    sCard = []\n",
    "    \n",
    "    pCard.append(FirstCard) #pCard for calculation\n",
    "    pCard.append(SecondCard)\n",
    "    sCard.append(FirstCard) #sCard for display\n",
    "    sCard.append(SecondCard)\n",
    "    \n",
    "elif choice == \"NO\":\n",
    "    print(\"Too bad, come back again if you like to play!\")\n",
    "else:\n",
    "    print(\"Sorry, that is not a correct response, Make sure to type 'YES' or 'NO'\")    \n",
    "    "
   ]
  },
  {
   "cell_type": "code",
   "execution_count": 10,
   "metadata": {},
   "outputs": [
    {
     "name": "stdin",
     "output_type": "stream",
     "text": [
      "would you like to HIT or STOP?  Type HIT or any other key to STOP HIT\n"
     ]
    },
    {
     "name": "stdout",
     "output_type": "stream",
     "text": [
      "K\n",
      "[2, 'Q', 'K']\n",
      "oops, too large busted\n"
     ]
    }
   ],
   "source": [
    "# player draw and calculation for the player's hand\n",
    "if FirstCard == 'A':\n",
    "    FirstCard = 11\n",
    "elif FirstCard == 'J' or FirstCard == 'Q' or FirstCard == 'K':\n",
    "    FirstCard = 10\n",
    "        \n",
    "if SecondCard == 'A':\n",
    "    SecondCard = 11\n",
    "elif SecondCard =='J'or SecondCard == 'Q' or SecondCard == 'K':\n",
    "    SecondCard = 10 \n",
    "        \n",
    "pSum = FirstCard + SecondCard\n",
    "\n",
    "\n",
    "if pSum < 21:\n",
    "    choice2 = input('would you like to HIT or STOP?  Type HIT or any other key to STOP')\n",
    "    while choice2 == 'HIT':\n",
    "        Card = random.choice(['A', 2 , 3 ,4, 5,6 ,7 ,8 ,9, 10, 'J', 'Q' ,'K'])\n",
    "        print(Card)\n",
    "        sCard.append(Card)\n",
    "        pCard.append(Card)\n",
    "        print(sCard)\n",
    "        \n",
    "        pSum = 0\n",
    "        for x in range(0, len(pCard)):\n",
    "            for  x in range(0, len(pCard)):\n",
    "                if pCard[x] == 'J' or pCard[x] == 'Q' or pCard[x] == 'K':\n",
    "                    pCard[x] = 10\n",
    "                if pCard[x] == 'A' and x < len(pCard)-1:\n",
    "                    temp = pCard[x+1]\n",
    "                    pCard[x+1] = pCard[x] \n",
    "                    pCard[x] = temp\n",
    "                    \n",
    "        for x in range(0, len(pCard)):\n",
    "            if pCard[x] != 'A':\n",
    "                pSum = pSum + pCard[x]\n",
    "                if pSum == 21:\n",
    "                    print('your sum value is ' + str(pSum))\n",
    "                    break\n",
    "                elif pSum > 21:\n",
    "                    print('oops, too large busted')\n",
    "                    break    \n",
    "            if pCard[x] == 'A' and pSum < 11:\n",
    "                pSum = pSum + 11\n",
    "                if pSum == 21:\n",
    "                    print(sCard)\n",
    "                    print('your sum value is ' + str(pSum))\n",
    "                    break\n",
    "            if pCard[x] == 'A' and pSum > 10:\n",
    "                pSum = pSum + 1\n",
    "                if pSum == 21:\n",
    "                    print(sCard)\n",
    "                    print('your sum value is ' + str(pSum))\n",
    "                    break\n",
    "                elif pSum > 21:\n",
    "                    print('oops, too large busted')\n",
    "                    break \n",
    "        if pSum == 21:\n",
    "            break\n",
    "        if pSum > 21:\n",
    "            pSum = 0\n",
    "            break\n",
    "        choice2 = input('would you like to HIT or STOP?  Type HIT or any other key to STOP')\n",
    "        if choice2 == 'STOP':\n",
    "            break\n",
    "            \n",
    "    if choice2 =='STOP':\n",
    "        print('your sum vaue is ' + str(pSum))\n",
    "        \n",
    "elif pSum == 21:\n",
    "    print(sCard)\n",
    "    print('your sum value is ' + str(pSum))\n",
    "\n",
    "    "
   ]
  },
  {
   "cell_type": "code",
   "execution_count": 11,
   "metadata": {},
   "outputs": [],
   "source": [
    "#Dealer's hand\n",
    "\n",
    "dCard =[] #Card for display\n",
    "dCard1 =[] #Card for calculation\n",
    "\n",
    "dSum = 0\n",
    "\n",
    "if pSum != 0:\n",
    "    print(\"It is dealer's turn\")\n",
    "    while dSum < 17:\n",
    "        Card = random.choice(['A', 2 , 3 ,4, 5,6 ,7 ,8 ,9, 10, 'J', 'Q' ,'K'])\n",
    "        print(Card)\n",
    "        dCard.append(Card)\n",
    "        dCard1.append(Card)\n",
    "        \n",
    "        for x in range(0, len(dCard1)):\n",
    "            for  x in range(0, len(dCard1)):\n",
    "                if dCard1[x] == 'J' or dCard1[x] == 'Q' or dCard1[x] == 'K':\n",
    "                    dCard1[x] = 10\n",
    "                if dCard1[x] == 'A' and x < len(dCard1)-1:\n",
    "                    temp = dCard1[x+1]\n",
    "                    dCard1[x+1] = dCard1[x] \n",
    "                    dCard1[x] = temp  \n",
    "        dSum = 0            \n",
    "        for x in range(0, len(dCard1)):\n",
    "            if dCard1[x] != 'A':\n",
    "                dSum = dSum + dCard1[x]\n",
    "                if dSum == 21:\n",
    "                    break\n",
    "                if dSum > 21:\n",
    "                    print('oops, too large busted')\n",
    "                    break    \n",
    "            if dCard1[x] == 'A' and dSum > 10:\n",
    "                dSum = dSum + 1\n",
    "                if dSum > 21:\n",
    "                    print('oops, too large busted')\n",
    "                    break\n",
    "            if dCard1[x] == 'A' and dSum < 11:\n",
    "                dSum = dSum + 11\n",
    "                if dSum == 21:\n",
    "                    break            \n",
    "        if dSum > 21:\n",
    "            dSum = 0\n",
    "            break\n",
    "    print('Dealr sum value is ' + str(dSum))   \n",
    "else:\n",
    "    dSum = 100"
   ]
  },
  {
   "cell_type": "code",
   "execution_count": 12,
   "metadata": {},
   "outputs": [
    {
     "name": "stdout",
     "output_type": "stream",
     "text": [
      "Dealr won\n",
      "Your current money is $400\n"
     ]
    }
   ],
   "source": [
    "#calculating money\n",
    "if pSum == dSum:\n",
    "    print('Draw')\n",
    "    Money = initialMoney\n",
    "    print('Your current money is $'+ str(Money))    \n",
    "if pSum > dSum:\n",
    "    print('Congradulation, you Won!')\n",
    "    Money = initialMoney + int(bet)\n",
    "    print('Your current money is $'+ str(Money))\n",
    "if dSum > pSum:\n",
    "    print('Dealr won')\n",
    "    Money = initialMoney - int(bet)\n",
    "    print('Your current money is $'+ str(Money))\n"
   ]
  },
  {
   "cell_type": "code",
   "execution_count": 13,
   "metadata": {},
   "outputs": [
    {
     "name": "stdin",
     "output_type": "stream",
     "text": [
      "Do you want to contintue?: YES or NO YES\n",
      "Type the amount you wnat to bet 100\n"
     ]
    },
    {
     "name": "stdout",
     "output_type": "stream",
     "text": [
      "Q\n",
      "5\n"
     ]
    },
    {
     "name": "stdin",
     "output_type": "stream",
     "text": [
      "would you like to HIT or STOP?  Type HIT or any other key to STOP HIT\n"
     ]
    },
    {
     "name": "stdout",
     "output_type": "stream",
     "text": [
      "4\n",
      "['Q', 5, 4]\n"
     ]
    },
    {
     "name": "stdin",
     "output_type": "stream",
     "text": [
      "would you like to HIT or STOP?  Type HIT or any other key to STOP STOP\n"
     ]
    },
    {
     "name": "stdout",
     "output_type": "stream",
     "text": [
      "your sum vaue is 19\n",
      "It is dealer's turn\n",
      "K\n",
      "A\n",
      "Dealr sum value is 21\n",
      "Dealr won\n",
      "Your current money is $300\n"
     ]
    },
    {
     "name": "stdin",
     "output_type": "stream",
     "text": [
      "Do you want to contintue?: YES or NO NO\n"
     ]
    },
    {
     "name": "stdout",
     "output_type": "stream",
     "text": [
      "Your money is $ 300\n",
      "Thank you, Goodbye for now\n"
     ]
    }
   ],
   "source": [
    "#Now playing until Money is depleted\n",
    "\n",
    "while Money > 0:\n",
    "    choice3 = input('Do you want to contintue?: YES or NO')\n",
    "    if choice3 == 'YES':\n",
    "        bet1 = input('Type the amount you wnat to bet')\n",
    "        FirstCard = random.choice(['A', 2 , 3 ,4, 5 ,6 ,7 ,8 ,9, 10, 'J', 'Q' ,'K'])\n",
    "        SecondCard = random.choice(['A', 2 , 3 ,4, 5,6 ,7 ,8 ,9, 10, 'J', 'Q' ,'K'])\n",
    "        \n",
    "        print(FirstCard)\n",
    "        print(SecondCard)\n",
    "        \n",
    "        pCard = []\n",
    "        sCard = []\n",
    "    \n",
    "        pCard.append(FirstCard) #pCard for calculation\n",
    "        pCard.append(SecondCard)\n",
    "        sCard.append(FirstCard) #sCard for display\n",
    "        sCard.append(SecondCard)\n",
    "        \n",
    "        if FirstCard == 'A':\n",
    "            FirstCard = 11\n",
    "        elif FirstCard == 'J' or FirstCard == 'Q' or FirstCard == 'K':\n",
    "            FirstCard = 10\n",
    "        \n",
    "        if SecondCard == 'A':\n",
    "            SecondCard = 11\n",
    "        elif SecondCard =='J'or SecondCard == 'Q' or SecondCard == 'K':\n",
    "            SecondCard = 10 \n",
    "        \n",
    "        pSum = FirstCard + SecondCard\n",
    "        \n",
    "        if pSum < 21:\n",
    "            choice4 = input('would you like to HIT or STOP?  Type HIT or any other key to STOP')\n",
    "            while choice4 == 'HIT':\n",
    "                Card = random.choice(['A', 2 , 3 ,4, 5,6 ,7 ,8 ,9, 10, 'J', 'Q' ,'K'])\n",
    "                print(Card)\n",
    "                sCard.append(Card)\n",
    "                pCard.append(Card)\n",
    "                print(sCard)\n",
    "\n",
    "                pSum = 0\n",
    "                for x in range(0, len(pCard)):\n",
    "                    for  x in range(0, len(pCard)):\n",
    "                        if pCard[x] == 'J' or pCard[x] == 'Q' or pCard[x] == 'K':\n",
    "                            pCard[x] = 10\n",
    "                        if pCard[x] == 'A' and x < len(pCard)-1:\n",
    "                            temp = pCard[x+1]\n",
    "                            pCard[x+1] = pCard[x] \n",
    "                            pCard[x] = temp\n",
    "\n",
    "                for x in range(0, len(pCard)):\n",
    "                    if pCard[x] != 'A':\n",
    "                        pSum = pSum + pCard[x]\n",
    "                        if pSum == 21:\n",
    "                            print('your sum value is ' + str(pSum))\n",
    "                            break\n",
    "                        elif pSum > 21:\n",
    "                            print('oops, too large busted')\n",
    "                            break    \n",
    "                    if pCard[x] == 'A' and pSum < 11:\n",
    "                        pSum = pSum + 11\n",
    "                        if pSum == 21:\n",
    "                            print(sCard)\n",
    "                            print('your sum value is ' + str(pSum))\n",
    "                            break\n",
    "                    if pCard[x] == 'A' and pSum > 10:\n",
    "                        pSum = pSum + 1\n",
    "                        if pSum == 21:\n",
    "                            print(sCard)\n",
    "                            print('your sum value is ' + str(pSum))\n",
    "                            break\n",
    "                        elif pSum > 21:\n",
    "                            print('oops, too large busted')\n",
    "                            break \n",
    "                if pSum == 21:\n",
    "                    break\n",
    "                if pSum > 21:\n",
    "                    pSum = 0\n",
    "                    break\n",
    "                choice4 = input('would you like to HIT or STOP?  Type HIT or any other key to STOP')\n",
    "                if choice4 == 'STOP':\n",
    "                    break\n",
    "\n",
    "            if choice4 =='STOP':\n",
    "                print('your sum vaue is ' + str(pSum))\n",
    "\n",
    "        elif pSum == 21:\n",
    "            print(sCard)\n",
    "            print('your sum value is ' + str(pSum))\n",
    "        \n",
    "        \n",
    "        #Dealer's hand\n",
    "\n",
    "        dCard =[] #Card for display\n",
    "        dCard1 =[] #Card for calculation\n",
    "\n",
    "        dSum = 0\n",
    "\n",
    "        if pSum != 0:\n",
    "            print(\"It is dealer's turn\")\n",
    "            while dSum < 17:\n",
    "                Card = random.choice(['A', 2 , 3 ,4, 5,6 ,7 ,8 ,9, 10, 'J', 'Q' ,'K'])\n",
    "                print(Card)\n",
    "                dCard.append(Card)\n",
    "                dCard1.append(Card)\n",
    "\n",
    "                for x in range(0, len(dCard1)):\n",
    "                    for  x in range(0, len(dCard1)):\n",
    "                        if dCard1[x] == 'J' or dCard1[x] == 'Q' or dCard1[x] == 'K':\n",
    "                            dCard1[x] = 10\n",
    "                        if dCard1[x] == 'A' and x < len(dCard1)-1:\n",
    "                            temp = dCard1[x+1]\n",
    "                            dCard1[x+1] = dCard1[x] \n",
    "                            dCard1[x] = temp  \n",
    "                dSum = 0            \n",
    "                for x in range(0, len(dCard1)):\n",
    "                    if dCard1[x] != 'A':\n",
    "                        dSum = dSum + dCard1[x]\n",
    "                        if dSum == 21:\n",
    "                            break\n",
    "                        if dSum > 21:\n",
    "                            print('oops, too large busted')\n",
    "                            break    \n",
    "                    if dCard1[x] == 'A' and dSum > 10:\n",
    "                        dSum = dSum + 1\n",
    "                        if dSum > 21:\n",
    "                            print('oops, too large busted')\n",
    "                            break\n",
    "                    if dCard1[x] == 'A' and dSum < 11:\n",
    "                        dSum = dSum + 11\n",
    "                        if dSum == 21:\n",
    "                            break            \n",
    "                if dSum > 21:\n",
    "                    dSum = 0\n",
    "                    break\n",
    "            print('Dealr sum value is ' + str(dSum))   \n",
    "        else:\n",
    "            dSum = 100\n",
    "                \n",
    "        #calculating money\n",
    "        if pSum == dSum:\n",
    "            print('Draw')\n",
    "            Money = Money\n",
    "            print('Your current money is $'+ str(Money))    \n",
    "        if pSum > dSum:\n",
    "            print('Congradulation, you Won!')\n",
    "            Money = Money + int(bet1)\n",
    "            print('Your current money is $'+ str(Money))\n",
    "        if dSum > pSum:\n",
    "            print('Dealr won')\n",
    "            Money = Money - int(bet1)\n",
    "            print('Your current money is $'+ str(Money))\n",
    "        \n",
    "        \n",
    "    if choice3 == 'NO':\n",
    "        print('Your money is $ ' + str(Money))\n",
    "        print('Thank you, Goodbye for now')\n",
    "        break\n",
    "        \n",
    "if Money == 0:\n",
    "    print('Sorry, out of money, better luck next time!')\n",
    "    \n",
    "    "
   ]
  },
  {
   "cell_type": "code",
   "execution_count": 139,
   "metadata": {},
   "outputs": [
    {
     "name": "stdout",
     "output_type": "stream",
     "text": [
      "10\n"
     ]
    }
   ],
   "source": [
    "#Exmaple code for a Sorting Card\n",
    "\n",
    "# sort the arrat of Card so that move all the Ace card to the End\n",
    "# also change face card to 10\n",
    "\n",
    "for x in range(0, len(pCard)):\n",
    "    for  x in range(0, len(pCard)):\n",
    "            if pCard[x] == 'J' or pCard[x] == 'Q' or pCard[x] == 'K':\n",
    "                pCard[x] = 10\n",
    "            if pCard[x] == 'A' and x < len(pCard)-1:\n",
    "                temp = pCard[x+1]\n",
    "                pCard[x+1] = pCard[x] \n",
    "                pCard[x] = temp\n",
    "print(Card)\n",
    "    "
   ]
  },
  {
   "cell_type": "code",
   "execution_count": 49,
   "metadata": {},
   "outputs": [
    {
     "name": "stdout",
     "output_type": "stream",
     "text": [
      "oops, too large busted\n",
      "0\n"
     ]
    }
   ],
   "source": [
    "#Example code for a Calculation\n",
    "\n",
    "# sum all the values on the Card\n",
    "# Ace will be added as 11 or 1 depends on its sum valule\n",
    "sum = 0\n",
    "for x in range(0, len(pCard)):\n",
    "    if pCard[x] != 'A':\n",
    "        sum = sum + pCard[x]\n",
    "        if sum > 21:\n",
    "            print('oops, too large busted')\n",
    "            sum = 0\n",
    "            break\n",
    "    if pCard[x] == 'A' and sum < 11:\n",
    "        sum = sum + 11\n",
    "    if pCard[x] == 'A' and sum > 10:\n",
    "        sum = sum + 1\n",
    "        if sum > 21:\n",
    "            print('oops, too large busted')\n",
    "            sum = 0\n",
    "            break\n",
    "print(sum)"
   ]
  },
  {
   "cell_type": "code",
   "execution_count": null,
   "metadata": {},
   "outputs": [],
   "source": []
  }
 ],
 "metadata": {
  "kernelspec": {
   "display_name": "Python 3",
   "language": "python",
   "name": "python3"
  },
  "language_info": {
   "codemirror_mode": {
    "name": "ipython",
    "version": 3
   },
   "file_extension": ".py",
   "mimetype": "text/x-python",
   "name": "python",
   "nbconvert_exporter": "python",
   "pygments_lexer": "ipython3",
   "version": "3.7.3"
  }
 },
 "nbformat": 4,
 "nbformat_minor": 2
}
